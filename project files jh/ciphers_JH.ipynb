{
 "cells": [
  {
   "cell_type": "code",
   "execution_count": 1,
   "metadata": {},
   "outputs": [
    {
     "name": "stdout",
     "output_type": "stream",
     "text": [
      "a test to set up the python kernel\n"
     ]
    }
   ],
   "source": [
    "print(\"a test to set up the python kernel\")"
   ]
  },
  {
   "cell_type": "markdown",
   "metadata": {},
   "source": [
    "# please use your own file & folder to avoid overwriting each others' code"
   ]
  },
  {
   "cell_type": "code",
   "execution_count": 4,
   "metadata": {},
   "outputs": [],
   "source": [
    "test_cipher = ['z','x','c','v','a','s','d','f','b','n','m','g','h','j','k','l','q','w','e','r','t','y','u','i','o','p',\"Z\",\"X\",\"C\",\"V\",\"A\",\"S\",\"D\",\"F\",\"B\",\"N\",\"M\",\"G\",\"H\",\"J\",\"K\",\"L\",\"Q\",\"W\",\"E\",\"R\",\"T\",\"Y\",\"U\",\"I\",\"O\",\"P\"]\n",
    "alphabet = ['a','b','c','d','e','f','g','h','i','j','k','l','m','n','o','p','q','r','s','t','u','v','w','x','y','z',\"A\",\"B\",\"C\",\"D\",\"E\",\"F\",\"G\",\"H\",\"I\",\"J\",\"K\",\"L\",\"M\",\"N\",\"O\",\"P\",\"Q\",\"R\",\"S\",\"T\",\"U\",\"V\",\"W\",\"X\",\"Y\",\"Z\"]"
   ]
  },
  {
   "cell_type": "code",
   "execution_count": 16,
   "metadata": {},
   "outputs": [],
   "source": [
    "def make_dictionary_encrypt(cipher,alphabet):\n",
    "    dictionary = {}\n",
    "    for n in range(len(cipher)-1):\n",
    "        dictionary[alphabet[n]] = cipher[n]\n",
    "    return dictionary"
   ]
  },
  {
   "cell_type": "code",
   "execution_count": 14,
   "metadata": {},
   "outputs": [],
   "source": [
    "def substitution_encrypt(plaintext,ciphertext,cipher,alphab):\n",
    "    cipher_dict = make_dictionary_encrypt(cipher,alphab)\n",
    "    text_as_str = \"\"\n",
    "    with open(plaintext, 'r') as file_to_encrypt:\n",
    "        with open(ciphertext, 'w') as encrypted_file:\n",
    "            file_as_str = file_to_encrypt.read()\n",
    "            for letter in file_as_str:\n",
    "                if letter in cipher_dict.keys():\n",
    "                    text_as_str = text_as_str + cipher_dict[letter]\n",
    "                if letter not in cipher_dict.keys():\n",
    "                    text_as_str = text_as_str + letter\n",
    "            encrypted_file.writelines(text_as_str)\n",
    "\n",
    "substitution_encrypt(\"testfile_jh.txt\",\"encryptedtext_jh.txt\",test_cipher,alphabet)"
   ]
  },
  {
   "cell_type": "code",
   "execution_count": 15,
   "metadata": {},
   "outputs": [],
   "source": [
    "def substitution_decrypt(plaint,ciphert,acipher,alphabe):\n",
    "    substitution_encrypt(ciphert,plaint,alphabe,acipher)\n",
    "\n",
    "substitution_decrypt('test_decrypt.txt','encryptedtext_jh.txt',test_cipher,alphabet)"
   ]
  },
  {
   "cell_type": "code",
   "execution_count": null,
   "metadata": {},
   "outputs": [],
   "source": []
  }
 ],
 "metadata": {
  "kernelspec": {
   "display_name": "Python 3",
   "language": "python",
   "name": "python3"
  },
  "language_info": {
   "codemirror_mode": {
    "name": "ipython",
    "version": 3
   },
   "file_extension": ".py",
   "mimetype": "text/x-python",
   "name": "python",
   "nbconvert_exporter": "python",
   "pygments_lexer": "ipython3",
   "version": "3.10.13"
  }
 },
 "nbformat": 4,
 "nbformat_minor": 2
}
