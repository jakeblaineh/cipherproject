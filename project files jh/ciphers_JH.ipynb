{
 "cells": [
  {
   "cell_type": "code",
   "execution_count": 1,
   "metadata": {},
   "outputs": [
    {
     "name": "stdout",
     "output_type": "stream",
     "text": [
      "a test to set up the python kernel\n"
     ]
    }
   ],
   "source": [
    "print(\"a test to set up the python kernel\")"
   ]
  },
  {
   "cell_type": "code",
   "execution_count": 2,
   "metadata": {},
   "outputs": [],
   "source": [
    "test_alphabet = {\"a\":\"z\",\"b\":\"x\",\"c\":\"c\",\"d\":\"v\",\"e\":\"a\",\"f\":\"s\",\"g\":\"d\",\"h\":\"f\",\"i\":\"g\",\"j\":\"h\",\"k\":\"b\",\"l\":\"n\",\"m\":\"j\",\"n\":\"k\",\"o\":\"l\",\"p\":\"q\",\"q\":\"w\",\"r\":\"e\",\"s\":\"r\",\"t\":\"t\",\"u\":\"y\",\"v\":\"u\",\"w\":\"o\",\"x\":\"p\",\"y\":\"i\",\"z\":\"m\"}"
   ]
  },
  {
   "cell_type": "code",
   "execution_count": 3,
   "metadata": {},
   "outputs": [
    {
     "ename": "IndentationError",
     "evalue": "expected an indented block after 'with' statement on line 2 (1510497376.py, line 5)",
     "output_type": "error",
     "traceback": [
      "\u001b[0;36m  Cell \u001b[0;32mIn[3], line 5\u001b[0;36m\u001b[0m\n\u001b[0;31m    with open(ciphertext, 'w') as encrypted_file:\u001b[0m\n\u001b[0m    ^\u001b[0m\n\u001b[0;31mIndentationError\u001b[0m\u001b[0;31m:\u001b[0m expected an indented block after 'with' statement on line 2\n"
     ]
    }
   ],
   "source": [
    "def substitution_encrypt(plaintext,ciphertext,alphabet):\n",
    "    with open(plaintext, 'r') as file_to_encrypt:\n",
    "        \n",
    "\n",
    "    with open(ciphertext, 'w') as encrypted_file:\n",
    "        "
   ]
  },
  {
   "cell_type": "code",
   "execution_count": null,
   "metadata": {},
   "outputs": [],
   "source": []
  }
 ],
 "metadata": {
  "kernelspec": {
   "display_name": "Python 3",
   "language": "python",
   "name": "python3"
  },
  "language_info": {
   "codemirror_mode": {
    "name": "ipython",
    "version": 3
   },
   "file_extension": ".py",
   "mimetype": "text/x-python",
   "name": "python",
   "nbconvert_exporter": "python",
   "pygments_lexer": "ipython3",
   "version": "3.10.13"
  }
 },
 "nbformat": 4,
 "nbformat_minor": 2
}
